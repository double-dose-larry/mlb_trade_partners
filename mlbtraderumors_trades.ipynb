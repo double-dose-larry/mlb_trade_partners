{
 "cells": [
  {
   "cell_type": "code",
   "execution_count": 1,
   "metadata": {},
   "outputs": [],
   "source": [
    "import pandas as pd\n",
    "import json\n",
    "import requests\n",
    "from functools import partial\n",
    "\n",
    "pd.set_option(\"display.max_columns\", 100)"
   ]
  },
  {
   "cell_type": "code",
   "execution_count": 11,
   "metadata": {},
   "outputs": [],
   "source": [
    "def get_trade_df(page):\n",
    "    # make a team map constant based on the js code from the webiste\n",
    "    # found in this file on line 91\n",
    "    # https://transactions.mlbtraderumors.com/widget/transactions-tracker&lang=en\n",
    "    \n",
    "    TEAM_ABBR_MAP = {}\n",
    "    TEAM_ABBR_MAP[32]=\"ANA\";\n",
    "    TEAM_ABBR_MAP[1]=\"ARZ\";\n",
    "    TEAM_ABBR_MAP[2]=\"ATL\";\n",
    "    TEAM_ABBR_MAP[3]=\"BAL\";\n",
    "    TEAM_ABBR_MAP[4]=\"BOS\";\n",
    "    TEAM_ABBR_MAP[5]=\"CHC\";\n",
    "    TEAM_ABBR_MAP[6]=\"CWS\";\n",
    "    TEAM_ABBR_MAP[7]=\"CIN\";\n",
    "    TEAM_ABBR_MAP[8]=\"CLE\";\n",
    "    TEAM_ABBR_MAP[9]=\"COL\";\n",
    "    TEAM_ABBR_MAP[10]=\"DET\";\n",
    "    TEAM_ABBR_MAP[11]=\"FLA\";\n",
    "    TEAM_ABBR_MAP[12]=\"HOU\";\n",
    "    TEAM_ABBR_MAP[13]=\"KAN\";\n",
    "    TEAM_ABBR_MAP[14]=\"LAA\";\n",
    "    TEAM_ABBR_MAP[15]=\"LAD\";\n",
    "    TEAM_ABBR_MAP[31]=\"MIA\";\n",
    "    TEAM_ABBR_MAP[16]=\"MIL\";\n",
    "    TEAM_ABBR_MAP[17]=\"MIN\";\n",
    "    TEAM_ABBR_MAP[18]=\"NYM\";\n",
    "    TEAM_ABBR_MAP[19]=\"NYY\";\n",
    "    TEAM_ABBR_MAP[20]=\"OAK\";\n",
    "    TEAM_ABBR_MAP[21]=\"PHI\";\n",
    "    TEAM_ABBR_MAP[22]=\"PIT\";\n",
    "    TEAM_ABBR_MAP[23]=\"SDG\";\n",
    "    TEAM_ABBR_MAP[24]=\"SFO\";\n",
    "    TEAM_ABBR_MAP[25]=\"SEA\";\n",
    "    TEAM_ABBR_MAP[26]=\"STL\";\n",
    "    TEAM_ABBR_MAP[33]=\"TBR\";\n",
    "    TEAM_ABBR_MAP[27]=\"TAM\";\n",
    "    TEAM_ABBR_MAP[28]=\"TEX\";\n",
    "    TEAM_ABBR_MAP[29]=\"TOR\";\n",
    "    TEAM_ABBR_MAP[30]=\"WAS\";\n",
    "    TEAM_ABBR_MAP[20000]=\"JAP\";\n",
    "\n",
    "    \n",
    "    # each requests gets 75 results at a time, use page to paginate\n",
    "    \n",
    "    json_response = requests.get(f\"https://transactions.mlbtraderumors.com/g/GetTransactions&widget=true&amount_type=4&type_ID=1&lang=41&OFFSET={page * 75}\").json()\n",
    "    df = pd.DataFrame(json_response[\"transactions\"])\n",
    "    \n",
    "    # make numbers numeric and ignore errors\n",
    "    df = df.apply(partial(pd.to_numeric, errors=\"ignore\"))\n",
    "    \n",
    "    # map team names\n",
    "    df[\"from\"] = df.FORMER_TEAM.dropna().astype(int).map(TEAM_ABBR_MAP)\n",
    "    df[\"to\"] = df.ACQUIRING_TEAM.dropna().astype(int).map(TEAM_ABBR_MAP)\n",
    "    \n",
    "    # return the df for the page\n",
    "    return df\n",
    "    "
   ]
  },
  {
   "cell_type": "code",
   "execution_count": 12,
   "metadata": {},
   "outputs": [
    {
     "data": {
      "text/html": [
       "<div>\n",
       "<style scoped>\n",
       "    .dataframe tbody tr th:only-of-type {\n",
       "        vertical-align: middle;\n",
       "    }\n",
       "\n",
       "    .dataframe tbody tr th {\n",
       "        vertical-align: top;\n",
       "    }\n",
       "\n",
       "    .dataframe thead th {\n",
       "        text-align: right;\n",
       "    }\n",
       "</style>\n",
       "<table border=\"1\" class=\"dataframe\">\n",
       "  <thead>\n",
       "    <tr style=\"text-align: right;\">\n",
       "      <th></th>\n",
       "      <th>TRANSACTION_ID</th>\n",
       "      <th>TRANSACTION_TYPE</th>\n",
       "      <th>TRANSACTION_TYPE_ID</th>\n",
       "      <th>TRANSACTION_DATE</th>\n",
       "      <th>C_TRANSACTION_DATE</th>\n",
       "      <th>FREE_AGENT_TYPE_ID</th>\n",
       "      <th>QUALIFYING_OFFER_TYPE_ID</th>\n",
       "      <th>PLAYER_ID</th>\n",
       "      <th>PLAYER_NAME</th>\n",
       "      <th>FORMER_GM</th>\n",
       "      <th>ACQUIRING_GM</th>\n",
       "      <th>FORMER_TEAM</th>\n",
       "      <th>ACQUIRING_TEAM</th>\n",
       "      <th>AGENCY_ID</th>\n",
       "      <th>CONTRACT_YEARS</th>\n",
       "      <th>CONTRACT_AMOUNT</th>\n",
       "      <th>CONTRACT_BUYOUT</th>\n",
       "      <th>MLBTR_LINK</th>\n",
       "      <th>BBREF_TRAN_ID</th>\n",
       "      <th>NOTES</th>\n",
       "      <th>DATE_CREATED</th>\n",
       "      <th>STAFF_CREATED</th>\n",
       "      <th>DATE_UPDATED</th>\n",
       "      <th>STAFF_UPDATED</th>\n",
       "      <th>DATE_DISABLED</th>\n",
       "      <th>from</th>\n",
       "      <th>to</th>\n",
       "    </tr>\n",
       "  </thead>\n",
       "  <tbody>\n",
       "    <tr>\n",
       "      <th>0</th>\n",
       "      <td>63252</td>\n",
       "      <td>Trade</td>\n",
       "      <td>1</td>\n",
       "      <td>2019-08-10 00:00:00</td>\n",
       "      <td>08/10/2019</td>\n",
       "      <td>NaN</td>\n",
       "      <td>NaN</td>\n",
       "      <td>22384</td>\n",
       "      <td>Ian Miller</td>\n",
       "      <td>34</td>\n",
       "      <td>121</td>\n",
       "      <td>25</td>\n",
       "      <td>17</td>\n",
       "      <td>NaN</td>\n",
       "      <td>NaN</td>\n",
       "      <td>NaN</td>\n",
       "      <td>NaN</td>\n",
       "      <td>https://www.mlbtraderumors.com/2019/08/twins-t...</td>\n",
       "      <td>NaN</td>\n",
       "      <td>Twins acquire Ian Miller from Mariners in exch...</td>\n",
       "      <td>2019-08-11 14:14:22</td>\n",
       "      <td>28</td>\n",
       "      <td>August 11, 2019, 2:14PM</td>\n",
       "      <td>JD Shaw</td>\n",
       "      <td>NaN</td>\n",
       "      <td>SEA</td>\n",
       "      <td>MIN</td>\n",
       "    </tr>\n",
       "    <tr>\n",
       "      <th>1</th>\n",
       "      <td>63245</td>\n",
       "      <td>Trade</td>\n",
       "      <td>1</td>\n",
       "      <td>2019-08-09 00:00:00</td>\n",
       "      <td>08/09/2019</td>\n",
       "      <td>NaN</td>\n",
       "      <td>NaN</td>\n",
       "      <td>9269</td>\n",
       "      <td>Jose Lobaton</td>\n",
       "      <td>34</td>\n",
       "      <td>2</td>\n",
       "      <td>25</td>\n",
       "      <td>15</td>\n",
       "      <td>209.0</td>\n",
       "      <td>NaN</td>\n",
       "      <td>NaN</td>\n",
       "      <td>NaN</td>\n",
       "      <td>https://www.mlbtraderumors.com/2019/08/dodgers...</td>\n",
       "      <td>NaN</td>\n",
       "      <td>Dodgers acquire Jose Lobaton from Mariners in ...</td>\n",
       "      <td>2019-08-10 17:06:08</td>\n",
       "      <td>28</td>\n",
       "      <td>August 10, 2019, 5:06PM</td>\n",
       "      <td>JD Shaw</td>\n",
       "      <td>NaN</td>\n",
       "      <td>SEA</td>\n",
       "      <td>LAD</td>\n",
       "    </tr>\n",
       "  </tbody>\n",
       "</table>\n",
       "</div>"
      ],
      "text/plain": [
       "   TRANSACTION_ID TRANSACTION_TYPE  TRANSACTION_TYPE_ID     TRANSACTION_DATE  \\\n",
       "0           63252            Trade                    1  2019-08-10 00:00:00   \n",
       "1           63245            Trade                    1  2019-08-09 00:00:00   \n",
       "\n",
       "  C_TRANSACTION_DATE  FREE_AGENT_TYPE_ID  QUALIFYING_OFFER_TYPE_ID  PLAYER_ID  \\\n",
       "0         08/10/2019                 NaN                       NaN      22384   \n",
       "1         08/09/2019                 NaN                       NaN       9269   \n",
       "\n",
       "    PLAYER_NAME  FORMER_GM  ACQUIRING_GM  FORMER_TEAM  ACQUIRING_TEAM  \\\n",
       "0    Ian Miller         34           121           25              17   \n",
       "1  Jose Lobaton         34             2           25              15   \n",
       "\n",
       "   AGENCY_ID  CONTRACT_YEARS  CONTRACT_AMOUNT  CONTRACT_BUYOUT  \\\n",
       "0        NaN             NaN              NaN              NaN   \n",
       "1      209.0             NaN              NaN              NaN   \n",
       "\n",
       "                                          MLBTR_LINK  BBREF_TRAN_ID  \\\n",
       "0  https://www.mlbtraderumors.com/2019/08/twins-t...            NaN   \n",
       "1  https://www.mlbtraderumors.com/2019/08/dodgers...            NaN   \n",
       "\n",
       "                                               NOTES         DATE_CREATED  \\\n",
       "0  Twins acquire Ian Miller from Mariners in exch...  2019-08-11 14:14:22   \n",
       "1  Dodgers acquire Jose Lobaton from Mariners in ...  2019-08-10 17:06:08   \n",
       "\n",
       "   STAFF_CREATED             DATE_UPDATED STAFF_UPDATED  DATE_DISABLED from  \\\n",
       "0             28  August 11, 2019, 2:14PM       JD Shaw            NaN  SEA   \n",
       "1             28  August 10, 2019, 5:06PM       JD Shaw            NaN  SEA   \n",
       "\n",
       "    to  \n",
       "0  MIN  \n",
       "1  LAD  "
      ]
     },
     "execution_count": 12,
     "metadata": {},
     "output_type": "execute_result"
    }
   ],
   "source": [
    "get_trade_df(1).head(2) # quick test"
   ]
  },
  {
   "cell_type": "code",
   "execution_count": 13,
   "metadata": {},
   "outputs": [
    {
     "name": "stdout",
     "output_type": "stream",
     "text": [
      "CPU times: user 296 ms, sys: 0 ns, total: 296 ms\n",
      "Wall time: 7.06 s\n"
     ]
    }
   ],
   "source": [
    "%%time\n",
    "# get 10 pages worth of data\n",
    "df = pd.concat( [ get_trade_df(page) for page in range(10)])"
   ]
  },
  {
   "cell_type": "code",
   "execution_count": 14,
   "metadata": {},
   "outputs": [
    {
     "name": "stdout",
     "output_type": "stream",
     "text": [
      "from 2018-01-17 00:00:00 to 2020-01-17 00:00:00\n"
     ]
    }
   ],
   "source": [
    "# check the date range\n",
    "print(\"from\", pd.to_datetime(df.TRANSACTION_DATE).min(), \"to\", pd.to_datetime(df.TRANSACTION_DATE).max())"
   ]
  },
  {
   "cell_type": "code",
   "execution_count": 15,
   "metadata": {},
   "outputs": [],
   "source": [
    "# get data for 2019 and on\n",
    "df_2019 = df[pd.to_datetime(df.TRANSACTION_DATE) >= '01-01-2019']"
   ]
  },
  {
   "cell_type": "code",
   "execution_count": 16,
   "metadata": {},
   "outputs": [],
   "source": [
    "# export summary to csv\n",
    "df_2019.groupby([\"from\", \"to\"]).size().reset_index().to_csv(\"players_traded_teams.csv\", index=False)"
   ]
  },
  {
   "cell_type": "code",
   "execution_count": 17,
   "metadata": {},
   "outputs": [],
   "source": [
    "# export all data to csv\n",
    "df.to_csv(\"all_trade_data.csv\", index=False)"
   ]
  },
  {
   "cell_type": "code",
   "execution_count": null,
   "metadata": {},
   "outputs": [],
   "source": []
  }
 ],
 "metadata": {
  "kernelspec": {
   "display_name": "Python 3",
   "language": "python",
   "name": "python3"
  },
  "language_info": {
   "codemirror_mode": {
    "name": "ipython",
    "version": 3
   },
   "file_extension": ".py",
   "mimetype": "text/x-python",
   "name": "python",
   "nbconvert_exporter": "python",
   "pygments_lexer": "ipython3",
   "version": "3.7.4"
  }
 },
 "nbformat": 4,
 "nbformat_minor": 4
}
